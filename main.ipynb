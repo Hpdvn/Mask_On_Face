{
 "cells": [
  {
   "cell_type": "markdown",
   "source": [
    "# Mask on face detection\n",
    "\n",
    "POIDVIN Hugo, LAY Frédéric, NGUYEN VAN NGUYEN Vincent, LECORFF Erwann\n",
    "\n",
    "_____________________________________________________________________\n",
    "\n",
    "Ce notebook contient un travail de classification de photos de profils selon 3 catégories :\n",
    "- Portant un masque correctement\n",
    "- Portant un masque incorrectement\n",
    "- Ne portant pas de masque\n",
    "\n",
    "En pleine pandémie de Covid-19, le port du masque apparait comme la solution la plus adéquate pour contrer la prolifération de ce virus.\n",
    "\n",
    "Les données ont été tirées du site : https://www.kaggle.com/spandanpatnaik09/face-mask-detectormask-not-mask-incorrect-mask et télécharger en local sur nos machines."
   ],
   "metadata": {
    "collapsed": false
   }
  },
  {
   "cell_type": "code",
   "execution_count": 7,
   "metadata": {
    "collapsed": true
   },
   "outputs": [],
   "source": [
    "import numpy as np\n",
    "import pandas as pd\n",
    "import tensorflow as tf\n",
    "import os\n",
    "import glob\n",
    "import matplotlib.pyplot as plt"
   ]
  },
  {
   "cell_type": "code",
   "execution_count": 7,
   "outputs": [],
   "source": [],
   "metadata": {
    "collapsed": false,
    "pycharm": {
     "name": "#%%\n"
    }
   }
  },
  {
   "cell_type": "code",
   "execution_count": null,
   "outputs": [],
   "source": [],
   "metadata": {
    "collapsed": false,
    "pycharm": {
     "name": "#%%\n"
    }
   }
  }
 ],
 "metadata": {
  "kernelspec": {
   "display_name": "Python 3",
   "language": "python",
   "name": "python3"
  },
  "language_info": {
   "codemirror_mode": {
    "name": "ipython",
    "version": 2
   },
   "file_extension": ".py",
   "mimetype": "text/x-python",
   "name": "python",
   "nbconvert_exporter": "python",
   "pygments_lexer": "ipython2",
   "version": "2.7.6"
  }
 },
 "nbformat": 4,
 "nbformat_minor": 0
}