{
 "cells": [
  {
   "cell_type": "markdown",
   "source": [
    "# Mask on face detection\n",
    "\n",
    "POIDVIN Hugo, LAY Frédéric, NGUYEN VAN NGUYEN Vincent, LECORFF Erwann\n",
    "\n",
    "_____________________________________________________________________\n",
    "\n",
    "Ce notebook contient un travail de classification de photos de profils selon 3 catégories :\n",
    "- Portant un masque correctement\n",
    "- Portant un masque incorrectement\n",
    "- Ne portant pas de masque\n",
    "\n",
    "En pleine pandémie de Covid-19, le port du masque apparait comme la solution la plus adéquate pour contrer la prolifération de ce virus.\n",
    "\n",
    "Les données ont été tirées du site : https://www.kaggle.com/spandanpatnaik09/face-mask-detectormask-not-mask-incorrect-mask et télécharger en local sur nos machines."
   ],
   "metadata": {
    "collapsed": false
   }
  },
  {
   "cell_type": "code",
   "execution_count": 7,
   "metadata": {
    "collapsed": true
   },
   "outputs": [],
   "source": [
    "import numpy as np\n",
    "import pandas as pd\n",
    "import tensorflow as tf\n",
    "import os\n",
    "import glob\n",
    "import matplotlib.pyplot as plt"
   ]
  },
  {
   "cell_type": "code",
   "execution_count": 8,
   "outputs": [
    {
     "ename": "FileNotFoundError",
     "evalue": "[WinError 3] Le chemin d’accès spécifié est introuvable: '/dataset/with_mask'",
     "output_type": "error",
     "traceback": [
      "\u001B[1;31m---------------------------------------------------------------------------\u001B[0m",
      "\u001B[1;31mFileNotFoundError\u001B[0m                         Traceback (most recent call last)",
      "Input \u001B[1;32mIn [8]\u001B[0m, in \u001B[0;36m<module>\u001B[1;34m\u001B[0m\n\u001B[0;32m      2\u001B[0m incorrect_mask_path \u001B[38;5;241m=\u001B[39m \u001B[38;5;124m\"\u001B[39m\u001B[38;5;124m/dataset/incorrect_mask\u001B[39m\u001B[38;5;124m\"\u001B[39m\n\u001B[0;32m      3\u001B[0m without_mask_path \u001B[38;5;241m=\u001B[39m \u001B[38;5;124m\"\u001B[39m\u001B[38;5;124m/dataset/without_mask\u001B[39m\u001B[38;5;124m\"\u001B[39m\n\u001B[1;32m----> 4\u001B[0m \u001B[38;5;28mprint\u001B[39m(\u001B[38;5;28mlen\u001B[39m(\u001B[43mos\u001B[49m\u001B[38;5;241;43m.\u001B[39;49m\u001B[43mlistdir\u001B[49m\u001B[43m(\u001B[49m\u001B[43mwith_mask_path\u001B[49m\u001B[43m)\u001B[49m))\n\u001B[0;32m      5\u001B[0m \u001B[38;5;28mprint\u001B[39m(\u001B[38;5;28mlen\u001B[39m(os\u001B[38;5;241m.\u001B[39mlistdir(incorrect_mask_path)))\n\u001B[0;32m      6\u001B[0m \u001B[38;5;28mprint\u001B[39m(\u001B[38;5;28mlen\u001B[39m(os\u001B[38;5;241m.\u001B[39mlistdir(without_mask_path)))\n",
      "\u001B[1;31mFileNotFoundError\u001B[0m: [WinError 3] Le chemin d’accès spécifié est introuvable: '/dataset/with_mask'"
     ]
    }
   ],
   "source": [
    "absolutepath = os.path.abspath(__file__)\n",
    "print(absolutepath)\n",
    "\n",
    "fileDirectory = os.path.dirname(absolutepath)\n",
    "\n",
    "with_mask_path = \"/dataset/with_mask\"\n",
    "incorrect_mask_path = \"/dataset/incorrect_mask\"\n",
    "without_mask_path = \"/dataset/without_mask\"\n",
    "print(len(os.listdir(with_mask_path)))\n",
    "print(len(os.listdir(incorrect_mask_path)))\n",
    "print(len(os.listdir(without_mask_path)))"
   ],
   "metadata": {
    "collapsed": false,
    "pycharm": {
     "name": "#%%\n"
    }
   }
  },
  {
   "cell_type": "code",
   "execution_count": null,
   "outputs": [],
   "source": [],
   "metadata": {
    "collapsed": false,
    "pycharm": {
     "name": "#%%\n"
    }
   }
  }
 ],
 "metadata": {
  "kernelspec": {
   "display_name": "Python 3",
   "language": "python",
   "name": "python3"
  },
  "language_info": {
   "codemirror_mode": {
    "name": "ipython",
    "version": 2
   },
   "file_extension": ".py",
   "mimetype": "text/x-python",
   "name": "python",
   "nbconvert_exporter": "python",
   "pygments_lexer": "ipython2",
   "version": "2.7.6"
  }
 },
 "nbformat": 4,
 "nbformat_minor": 0
}